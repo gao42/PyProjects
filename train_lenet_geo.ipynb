{
  "nbformat": 4,
  "nbformat_minor": 0,
  "metadata": {
    "colab": {
      "provenance": [],
      "gpuType": "T4",
      "mount_file_id": "1153rBbNtz8-1AGH2VGM-B6AMLlmesS3J",
      "authorship_tag": "ABX9TyOVOCWQlnuVaBI6pmKXmlmA",
      "include_colab_link": true
    },
    "kernelspec": {
      "name": "python3",
      "display_name": "Python 3"
    },
    "language_info": {
      "name": "python"
    },
    "accelerator": "GPU"
  },
  "cells": [
    {
      "cell_type": "markdown",
      "metadata": {
        "id": "view-in-github",
        "colab_type": "text"
      },
      "source": [
        "<a href=\"https://colab.research.google.com/github/gao42/PyProjects/blob/main/train_lenet_geo.ipynb\" target=\"_parent\"><img src=\"https://colab.research.google.com/assets/colab-badge.svg\" alt=\"Open In Colab\"/></a>"
      ]
    },
    {
      "cell_type": "markdown",
      "source": [
        "# Train the Geometry Classification Model (LeNet Model).\n",
        "#####     Usage:\n",
        "#####     python train_model.py --dataset dataset --model output/lenet.hdf5"
      ],
      "metadata": {
        "id": "MNRIK2D1FJLY"
      }
    },
    {
      "cell_type": "code",
      "source": [
        "# Tools: Unzip the pyimagesearch tools\n",
        "\n",
        "!unzip -qq \"/content/pyimagesearch.zip\" -d \"/content\"\n"
      ],
      "metadata": {
        "id": "hzl07NgVGn9X"
      },
      "execution_count": 1,
      "outputs": []
    },
    {
      "cell_type": "code",
      "execution_count": 3,
      "metadata": {
        "id": "LwTJI-lKFB1X"
      },
      "outputs": [],
      "source": [
        "# Import: import the necessary packages.\n",
        "from sklearn.preprocessing import LabelBinarizer\n",
        "from sklearn.model_selection import train_test_split\n",
        "from sklearn.metrics import classification_report\n",
        "from tensorflow.keras.preprocessing.image import img_to_array\n",
        "from tensorflow.keras.optimizers import SGD\n",
        "from pyimagesearch.nn.conv import LeNet\n",
        "from pyimagesearch.utils.captchahelper import preprocess\n",
        "from imutils import paths\n",
        "import matplotlib.pyplot as plt\n",
        "import numpy as np\n",
        "import argparse\n",
        "import cv2\n",
        "import os"
      ]
    },
    {
      "cell_type": "code",
      "source": [
        "# Arguments: construct the argument parse and parse the arguments.\n",
        "\n",
        "#ap = argparse.ArgumentParser()\n",
        "#ap.add_argument(\"-d\", \"--dataset\", required=True,\n",
        "#\thelp=\"path to input dataset\")\n",
        "#ap.add_argument(\"-m\", \"--model\", required=True,\n",
        "#\thelp=\"path to output model\")\n",
        "#args = vars(ap.parse_args())\n",
        "\n",
        "args = {\n",
        "\t  \"dataset\": \"dataset_geo\",\n",
        "    \"model\": \"lenet_geo.hdf5\"\n",
        "}"
      ],
      "metadata": {
        "id": "1zexJTYgIG9Q"
      },
      "execution_count": 4,
      "outputs": []
    },
    {
      "cell_type": "code",
      "source": [
        "# Data: Unzip the data set to be used\n",
        "\n",
        "!unzip -qq \"/content/dataset_geo.zip\" -d \"/content\""
      ],
      "metadata": {
        "id": "dajv_n5oJkca"
      },
      "execution_count": 5,
      "outputs": []
    },
    {
      "cell_type": "code",
      "source": [
        "# Preprocess: in a loop load, preprocess scale each image.\n",
        "\n",
        "data = []\n",
        "labels = []\n",
        "\n",
        "for imagePath in paths.list_images(args[\"dataset\"]):\n",
        "\t# load the image, pre-process it, and store it in the data list\n",
        "\timage = cv2.imread(imagePath)\n",
        "\timage = cv2.cvtColor(image, cv2.COLOR_BGR2GRAY)\n",
        "\t#image = preprocess(image, 28, 28)\n",
        "\timage = preprocess(image, 512, 512)\n",
        "\timage = img_to_array(image)\n",
        "\tdata.append(image)\n",
        "\n",
        "\t# extract the class label from the image path and update the\n",
        "\t# labels list\n",
        "\tlabel = imagePath.split(os.path.sep)[-2]\n",
        "\tlabels.append(label)\n",
        "\n",
        "# scale the raw pixel intensities to the range [0, 1]\n",
        "data = np.array(data, dtype=\"float\") / 255.0\n",
        "labels = np.array(labels)"
      ],
      "metadata": {
        "id": "E-cwQX4LJ01g"
      },
      "execution_count": 6,
      "outputs": []
    },
    {
      "cell_type": "code",
      "source": [
        "# Preprocess: split and transform the dataset.\n",
        "\n",
        "# partition the data into training and testing splits using 75% of\n",
        "# the data for training and the remaining 25% for testing\n",
        "(trainX, testX, trainY, testY) = train_test_split(data,\n",
        "\tlabels, test_size=0.25, random_state=42)\n",
        "\n",
        "# convert the labels from integers to vectors\n",
        "lb = LabelBinarizer().fit(trainY)\n",
        "trainY = lb.transform(trainY)\n",
        "testY = lb.transform(testY)"
      ],
      "metadata": {
        "id": "Q84z4E1oKDVn"
      },
      "execution_count": 7,
      "outputs": []
    },
    {
      "cell_type": "code",
      "source": [
        "# Initialize: initialize the model\n",
        "\n",
        "print(\"[INFO] compiling model...\")\n",
        "#model = LeNet.build(width=28, height=28, depth=1, classes=9)\n",
        "model = LeNet.build(width=512, height=512, depth=1, classes=12)\n",
        "opt = SGD(learning_rate=0.01)\n",
        "model.compile(loss=\"categorical_crossentropy\", optimizer=opt,\n",
        "\tmetrics=[\"accuracy\"])"
      ],
      "metadata": {
        "colab": {
          "base_uri": "https://localhost:8080/"
        },
        "id": "usdF7vQfN75U",
        "outputId": "5e0e3637-93ee-4767-c47d-86ce5b260be0"
      },
      "execution_count": 8,
      "outputs": [
        {
          "output_type": "stream",
          "name": "stdout",
          "text": [
            "[INFO] compiling model...\n"
          ]
        }
      ]
    },
    {
      "cell_type": "code",
      "source": [
        "# Train: train the network\n",
        "print(\"[INFO] training network...\")\n",
        "H = model.fit(trainX, trainY,  validation_data=(testX, testY),\n",
        "\tbatch_size=32, epochs=30, verbose=1)"
      ],
      "metadata": {
        "colab": {
          "base_uri": "https://localhost:8080/"
        },
        "id": "aLhJBg3aOV7J",
        "outputId": "980b0a24-23ea-4771-853b-d3a5f33443c0"
      },
      "execution_count": 9,
      "outputs": [
        {
          "output_type": "stream",
          "name": "stdout",
          "text": [
            "[INFO] training network...\n",
            "Epoch 1/30\n",
            "18/18 [==============================] - 15s 382ms/step - loss: 2.4945 - accuracy: 0.0859 - val_loss: 2.4736 - val_accuracy: 0.0929\n",
            "Epoch 2/30\n",
            "18/18 [==============================] - 4s 240ms/step - loss: 2.4609 - accuracy: 0.0987 - val_loss: 2.4928 - val_accuracy: 0.1038\n",
            "Epoch 3/30\n",
            "18/18 [==============================] - 5s 255ms/step - loss: 2.4355 - accuracy: 0.1371 - val_loss: 2.4623 - val_accuracy: 0.1311\n",
            "Epoch 4/30\n",
            "18/18 [==============================] - 4s 238ms/step - loss: 2.4037 - accuracy: 0.1755 - val_loss: 2.4372 - val_accuracy: 0.1311\n",
            "Epoch 5/30\n",
            "18/18 [==============================] - 5s 258ms/step - loss: 2.3583 - accuracy: 0.2139 - val_loss: 2.4611 - val_accuracy: 0.1202\n",
            "Epoch 6/30\n",
            "18/18 [==============================] - 4s 239ms/step - loss: 2.2975 - accuracy: 0.2687 - val_loss: 2.4320 - val_accuracy: 0.1366\n",
            "Epoch 7/30\n",
            "18/18 [==============================] - 5s 256ms/step - loss: 2.2181 - accuracy: 0.2943 - val_loss: 2.5344 - val_accuracy: 0.1749\n",
            "Epoch 8/30\n",
            "18/18 [==============================] - 4s 244ms/step - loss: 2.1191 - accuracy: 0.3236 - val_loss: 2.3206 - val_accuracy: 0.2186\n",
            "Epoch 9/30\n",
            "18/18 [==============================] - 5s 257ms/step - loss: 1.9890 - accuracy: 0.4004 - val_loss: 2.5069 - val_accuracy: 0.1749\n",
            "Epoch 10/30\n",
            "18/18 [==============================] - 5s 261ms/step - loss: 1.8729 - accuracy: 0.4168 - val_loss: 2.9016 - val_accuracy: 0.1639\n",
            "Epoch 11/30\n",
            "18/18 [==============================] - 4s 243ms/step - loss: 1.7977 - accuracy: 0.4717 - val_loss: 3.1725 - val_accuracy: 0.1311\n",
            "Epoch 12/30\n",
            "18/18 [==============================] - 4s 245ms/step - loss: 1.7823 - accuracy: 0.4680 - val_loss: 2.3664 - val_accuracy: 0.2568\n",
            "Epoch 13/30\n",
            "18/18 [==============================] - 4s 248ms/step - loss: 1.5667 - accuracy: 0.5356 - val_loss: 2.5403 - val_accuracy: 0.3333\n",
            "Epoch 14/30\n",
            "18/18 [==============================] - 4s 245ms/step - loss: 1.4414 - accuracy: 0.5795 - val_loss: 2.8566 - val_accuracy: 0.2787\n",
            "Epoch 15/30\n",
            "18/18 [==============================] - 4s 245ms/step - loss: 1.4274 - accuracy: 0.5978 - val_loss: 2.2964 - val_accuracy: 0.3169\n",
            "Epoch 16/30\n",
            "18/18 [==============================] - 5s 264ms/step - loss: 1.2904 - accuracy: 0.5850 - val_loss: 2.7886 - val_accuracy: 0.3279\n",
            "Epoch 17/30\n",
            "18/18 [==============================] - 4s 246ms/step - loss: 1.1598 - accuracy: 0.6143 - val_loss: 5.3741 - val_accuracy: 0.1148\n",
            "Epoch 18/30\n",
            "18/18 [==============================] - 4s 246ms/step - loss: 1.5010 - accuracy: 0.6618 - val_loss: 2.0006 - val_accuracy: 0.3716\n",
            "Epoch 19/30\n",
            "18/18 [==============================] - 5s 261ms/step - loss: 1.0802 - accuracy: 0.6581 - val_loss: 2.1175 - val_accuracy: 0.4536\n",
            "Epoch 20/30\n",
            "18/18 [==============================] - 4s 245ms/step - loss: 0.9893 - accuracy: 0.6636 - val_loss: 3.5335 - val_accuracy: 0.2896\n",
            "Epoch 21/30\n",
            "18/18 [==============================] - 5s 262ms/step - loss: 1.1583 - accuracy: 0.6874 - val_loss: 1.0786 - val_accuracy: 0.6175\n",
            "Epoch 22/30\n",
            "18/18 [==============================] - 4s 244ms/step - loss: 0.8756 - accuracy: 0.7002 - val_loss: 2.9544 - val_accuracy: 0.3934\n",
            "Epoch 23/30\n",
            "18/18 [==============================] - 4s 242ms/step - loss: 0.8636 - accuracy: 0.7569 - val_loss: 1.1318 - val_accuracy: 0.5683\n",
            "Epoch 24/30\n",
            "18/18 [==============================] - 4s 248ms/step - loss: 0.7938 - accuracy: 0.7166 - val_loss: 1.5497 - val_accuracy: 0.4590\n",
            "Epoch 25/30\n",
            "18/18 [==============================] - 4s 242ms/step - loss: 0.7370 - accuracy: 0.7605 - val_loss: 2.7875 - val_accuracy: 0.4153\n",
            "Epoch 26/30\n",
            "18/18 [==============================] - 4s 244ms/step - loss: 0.7325 - accuracy: 0.8117 - val_loss: 2.1176 - val_accuracy: 0.4699\n",
            "Epoch 27/30\n",
            "18/18 [==============================] - 5s 264ms/step - loss: 0.7025 - accuracy: 0.8026 - val_loss: 3.1327 - val_accuracy: 0.3388\n",
            "Epoch 28/30\n",
            "18/18 [==============================] - 4s 241ms/step - loss: 0.8029 - accuracy: 0.7660 - val_loss: 2.0406 - val_accuracy: 0.4372\n",
            "Epoch 29/30\n",
            "18/18 [==============================] - 5s 258ms/step - loss: 0.7347 - accuracy: 0.7916 - val_loss: 2.1158 - val_accuracy: 0.4208\n",
            "Epoch 30/30\n",
            "18/18 [==============================] - 4s 243ms/step - loss: 0.6095 - accuracy: 0.8245 - val_loss: 1.5975 - val_accuracy: 0.5628\n"
          ]
        }
      ]
    },
    {
      "cell_type": "code",
      "source": [
        "# Results: evaluate the network\n",
        "print(\"[INFO] evaluating network...\")\n",
        "predictions = model.predict(testX, batch_size=32)\n",
        "print(classification_report(testY.argmax(axis=1),\n",
        "\tpredictions.argmax(axis=1), target_names=lb.classes_))"
      ],
      "metadata": {
        "colab": {
          "base_uri": "https://localhost:8080/"
        },
        "id": "PolhZizJQCXr",
        "outputId": "7675ac0b-c847-40eb-d1c6-6af82171c234"
      },
      "execution_count": 10,
      "outputs": [
        {
          "output_type": "stream",
          "name": "stdout",
          "text": [
            "[INFO] evaluating network...\n",
            "6/6 [==============================] - 0s 70ms/step\n",
            "              precision    recall  f1-score   support\n",
            "\n",
            "     ACR-RBD       0.17      1.00      0.29        14\n",
            "      ACR-SE       0.25      0.12      0.16        17\n",
            "         CCO       1.00      0.10      0.18        20\n",
            "         DCO       0.00      0.00      0.00        14\n",
            "       Deck1       1.00      0.78      0.88         9\n",
            "     EXP-CMD       1.00      0.92      0.96        13\n",
            "     F-RB-NY       1.00      0.75      0.86        12\n",
            "     F-RB-PY       1.00      1.00      1.00        13\n",
            "       RB-NX       1.00      0.43      0.60        14\n",
            "       RB-NY       0.83      0.62      0.71        16\n",
            "       RB-PX       1.00      1.00      1.00        17\n",
            "       RB-PY       0.85      0.46      0.59        24\n",
            "\n",
            "    accuracy                           0.56       183\n",
            "   macro avg       0.76      0.60      0.60       183\n",
            "weighted avg       0.76      0.56      0.57       183\n",
            "\n"
          ]
        },
        {
          "output_type": "stream",
          "name": "stderr",
          "text": [
            "/usr/local/lib/python3.10/dist-packages/sklearn/metrics/_classification.py:1344: UndefinedMetricWarning: Precision and F-score are ill-defined and being set to 0.0 in labels with no predicted samples. Use `zero_division` parameter to control this behavior.\n",
            "  _warn_prf(average, modifier, msg_start, len(result))\n",
            "/usr/local/lib/python3.10/dist-packages/sklearn/metrics/_classification.py:1344: UndefinedMetricWarning: Precision and F-score are ill-defined and being set to 0.0 in labels with no predicted samples. Use `zero_division` parameter to control this behavior.\n",
            "  _warn_prf(average, modifier, msg_start, len(result))\n",
            "/usr/local/lib/python3.10/dist-packages/sklearn/metrics/_classification.py:1344: UndefinedMetricWarning: Precision and F-score are ill-defined and being set to 0.0 in labels with no predicted samples. Use `zero_division` parameter to control this behavior.\n",
            "  _warn_prf(average, modifier, msg_start, len(result))\n"
          ]
        }
      ]
    },
    {
      "cell_type": "code",
      "source": [
        "# Save: save the model to disk\n",
        "print(\"[INFO] serializing network...\")\n",
        "model.save(args[\"model\"])"
      ],
      "metadata": {
        "colab": {
          "base_uri": "https://localhost:8080/"
        },
        "id": "_XWxI7k0QHfN",
        "outputId": "ad149979-5957-44c2-bacf-96b782b47ca6"
      },
      "execution_count": null,
      "outputs": [
        {
          "output_type": "stream",
          "name": "stdout",
          "text": [
            "[INFO] serializing network...\n"
          ]
        },
        {
          "output_type": "stream",
          "name": "stderr",
          "text": [
            "/usr/local/lib/python3.10/dist-packages/keras/src/engine/training.py:3103: UserWarning: You are saving your model as an HDF5 file via `model.save()`. This file format is considered legacy. We recommend using instead the native Keras format, e.g. `model.save('my_model.keras')`.\n",
            "  saving_api.save_model(\n"
          ]
        }
      ]
    },
    {
      "cell_type": "code",
      "source": [
        "# Results: plot the training + testing loss and accuracy\n",
        "plt.style.use(\"ggplot\")\n",
        "plt.figure()\n",
        "plt.plot(np.arange(0, 30), H.history[\"loss\"], label=\"train_loss\")\n",
        "plt.plot(np.arange(0, 30), H.history[\"val_loss\"], label=\"val_loss\")\n",
        "plt.plot(np.arange(0, 30), H.history[\"accuracy\"], label=\"acc\")\n",
        "plt.plot(np.arange(0, 30), H.history[\"val_accuracy\"], label=\"val_acc\")\n",
        "plt.title(\"Training Loss and Accuracy\")\n",
        "plt.xlabel(\"Epoch #\")\n",
        "plt.ylabel(\"Loss/Accuracy\")\n",
        "plt.legend()\n",
        "plt.show()"
      ],
      "metadata": {
        "colab": {
          "base_uri": "https://localhost:8080/",
          "height": 477
        },
        "id": "Ad-c6gdPROy4",
        "outputId": "c7539311-b833-433a-c74c-441a89ec3a67"
      },
      "execution_count": 11,
      "outputs": [
        {
          "output_type": "display_data",
          "data": {
            "text/plain": [
              "<Figure size 640x480 with 1 Axes>"
            ],
            "image/png": "[encoded data removed]"
          },
          "metadata": {}
        }
      ]
    }
  ]
}