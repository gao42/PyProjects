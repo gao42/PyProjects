{
  "nbformat": 4,
  "nbformat_minor": 0,
  "metadata": {
    "colab": {
      "provenance": [],
      "gpuType": "T4",
      "mount_file_id": "1153rBbNtz8-1AGH2VGM-B6AMLlmesS3J",
      "authorship_tag": "ABX9TyNZRgUt1G4Y8AeeSl40A9uD",
      "include_colab_link": true
    },
    "kernelspec": {
      "name": "python3",
      "display_name": "Python 3"
    },
    "language_info": {
      "name": "python"
    },
    "accelerator": "GPU"
  },
  "cells": [
    {
      "cell_type": "markdown",
      "metadata": {
        "id": "view-in-github",
        "colab_type": "text"
      },
      "source": [
        "<a href=\"https://colab.research.google.com/github/gao42/PyProjects/blob/main/train_lenet_geo.ipynb\" target=\"_parent\"><img src=\"https://colab.research.google.com/assets/colab-badge.svg\" alt=\"Open In Colab\"/></a>"
      ]
    },
    {
      "cell_type": "markdown",
      "source": [
        "# Train the Geometry Classification Model (LeNet Model).\n",
        "#####     Usage:\n",
        "#####     python train_model.py --dataset dataset --model output/lenet.hdf5"
      ],
      "metadata": {
        "id": "MNRIK2D1FJLY"
      }
    },
    {
      "cell_type": "code",
      "source": [
        "# Tools: Unzip the pyimagesearch tools\n",
        "\n",
        "!unzip -qq \"/content/pyimagesearch.zip\" -d \"/content\"\n"
      ],
      "metadata": {
        "id": "hzl07NgVGn9X"
      },
      "execution_count": 1,
      "outputs": []
    },
    {
      "cell_type": "code",
      "execution_count": 2,
      "metadata": {
        "id": "LwTJI-lKFB1X"
      },
      "outputs": [],
      "source": [
        "# Import: import the necessary packages.\n",
        "from sklearn.preprocessing import LabelBinarizer\n",
        "from sklearn.model_selection import train_test_split\n",
        "from sklearn.metrics import classification_report\n",
        "from tensorflow.keras.preprocessing.image import img_to_array\n",
        "from tensorflow.keras.optimizers import SGD\n",
        "from pyimagesearch.nn.conv import LeNet\n",
        "from pyimagesearch.utils.captchahelper import preprocess\n",
        "from imutils import paths\n",
        "import matplotlib.pyplot as plt\n",
        "import numpy as np\n",
        "import argparse\n",
        "import cv2\n",
        "import os"
      ]
    },
    {
      "cell_type": "code",
      "source": [
        "# Arguments: construct the argument parse and parse the arguments.\n",
        "\n",
        "#ap = argparse.ArgumentParser()\n",
        "#ap.add_argument(\"-d\", \"--dataset\", required=True,\n",
        "#\thelp=\"path to input dataset\")\n",
        "#ap.add_argument(\"-m\", \"--model\", required=True,\n",
        "#\thelp=\"path to output model\")\n",
        "#args = vars(ap.parse_args())\n",
        "\n",
        "args = {\n",
        "\t  \"dataset\": \"dataset_geo\",\n",
        "    \"model\": \"lenet_geo.hdf5\"\n",
        "}"
      ],
      "metadata": {
        "id": "1zexJTYgIG9Q"
      },
      "execution_count": 3,
      "outputs": []
    },
    {
      "cell_type": "code",
      "source": [
        "# Data: Unzip the data set to be used\n",
        "\n",
        "!unzip -qq \"/content/dataset_geo.zip\" -d \"/content\""
      ],
      "metadata": {
        "id": "dajv_n5oJkca"
      },
      "execution_count": 5,
      "outputs": []
    },
    {
      "cell_type": "code",
      "source": [
        "# Preprocess: in a loop load, preprocess scale each image.\n",
        "\n",
        "data = []\n",
        "labels = []\n",
        "\n",
        "for imagePath in paths.list_images(args[\"dataset\"]):\n",
        "\t# load the image, pre-process it, and store it in the data list\n",
        "\timage = cv2.imread(imagePath)\n",
        "\timage = cv2.cvtColor(image, cv2.COLOR_BGR2GRAY)\n",
        "\t#image = preprocess(image, 28, 28)\n",
        "\timage = preprocess(image, 512, 512)\n",
        "\timage = img_to_array(image)\n",
        "\tdata.append(image)\n",
        "\n",
        "\t# extract the class label from the image path and update the\n",
        "\t# labels list\n",
        "\tlabel = imagePath.split(os.path.sep)[-2]\n",
        "\tlabels.append(label)\n",
        "\n",
        "# scale the raw pixel intensities to the range [0, 1]\n",
        "data = np.array(data, dtype=\"float\") / 255.0\n",
        "labels = np.array(labels)"
      ],
      "metadata": {
        "id": "E-cwQX4LJ01g"
      },
      "execution_count": 6,
      "outputs": []
    },
    {
      "cell_type": "code",
      "source": [
        "# Preprocess: split and transform the dataset.\n",
        "\n",
        "# partition the data into training and testing splits using 75% of\n",
        "# the data for training and the remaining 25% for testing\n",
        "(trainX, testX, trainY, testY) = train_test_split(data,\n",
        "\tlabels, test_size=0.25, random_state=42)\n",
        "\n",
        "# convert the labels from integers to vectors\n",
        "lb = LabelBinarizer().fit(trainY)\n",
        "trainY = lb.transform(trainY)\n",
        "testY = lb.transform(testY)"
      ],
      "metadata": {
        "id": "Q84z4E1oKDVn"
      },
      "execution_count": 7,
      "outputs": []
    },
    {
      "cell_type": "code",
      "source": [
        "# Initialize: initialize the model\n",
        "\n",
        "print(\"[INFO] compiling model...\")\n",
        "#model = LeNet.build(width=28, height=28, depth=1, classes=9)\n",
        "model = LeNet.build(width=512, height=512, depth=1, classes=12)\n",
        "opt = SGD(learning_rate=0.01)\n",
        "model.compile(loss=\"categorical_crossentropy\", optimizer=opt,\n",
        "\tmetrics=[\"accuracy\"])"
      ],
      "metadata": {
        "colab": {
          "base_uri": "https://localhost:8080/"
        },
        "id": "usdF7vQfN75U",
        "outputId": "5055ce2f-0203-40ef-96fb-77bc99bf5767"
      },
      "execution_count": 8,
      "outputs": [
        {
          "output_type": "stream",
          "name": "stdout",
          "text": [
            "[INFO] compiling model...\n"
          ]
        }
      ]
    },
    {
      "cell_type": "code",
      "source": [
        "# Train: train the network\n",
        "print(\"[INFO] training network...\")\n",
        "H = model.fit(trainX, trainY,  validation_data=(testX, testY),\n",
        "\tbatch_size=32, epochs=15, verbose=1)"
      ],
      "metadata": {
        "colab": {
          "base_uri": "https://localhost:8080/"
        },
        "id": "aLhJBg3aOV7J",
        "outputId": "83471688-d6ad-470f-ea47-0ef853f80be5"
      },
      "execution_count": 9,
      "outputs": [
        {
          "output_type": "stream",
          "name": "stdout",
          "text": [
            "[INFO] training network...\n",
            "Epoch 1/15\n",
            "18/18 [==============================] - 14s 366ms/step - loss: 2.5024 - accuracy: 0.0750 - val_loss: 2.4809 - val_accuracy: 0.0929\n",
            "Epoch 2/15\n",
            "18/18 [==============================] - 5s 256ms/step - loss: 2.4760 - accuracy: 0.0969 - val_loss: 2.4914 - val_accuracy: 0.0492\n",
            "Epoch 3/15\n",
            "18/18 [==============================] - 4s 248ms/step - loss: 2.4637 - accuracy: 0.0914 - val_loss: 2.4773 - val_accuracy: 0.1311\n",
            "Epoch 4/15\n",
            "18/18 [==============================] - 4s 238ms/step - loss: 2.4469 - accuracy: 0.1280 - val_loss: 2.4593 - val_accuracy: 0.1421\n",
            "Epoch 5/15\n",
            "18/18 [==============================] - 5s 260ms/step - loss: 2.4197 - accuracy: 0.1773 - val_loss: 2.4457 - val_accuracy: 0.0929\n",
            "Epoch 6/15\n",
            "18/18 [==============================] - 5s 256ms/step - loss: 2.3931 - accuracy: 0.1755 - val_loss: 2.4116 - val_accuracy: 0.1803\n",
            "Epoch 7/15\n",
            "18/18 [==============================] - 5s 256ms/step - loss: 2.3481 - accuracy: 0.2888 - val_loss: 2.4534 - val_accuracy: 0.0765\n",
            "Epoch 8/15\n",
            "18/18 [==============================] - 5s 260ms/step - loss: 2.3107 - accuracy: 0.2212 - val_loss: 2.3507 - val_accuracy: 0.1530\n",
            "Epoch 9/15\n",
            "18/18 [==============================] - 5s 258ms/step - loss: 2.2335 - accuracy: 0.2761 - val_loss: 2.3556 - val_accuracy: 0.1421\n",
            "Epoch 10/15\n",
            "18/18 [==============================] - 5s 264ms/step - loss: 2.1615 - accuracy: 0.2779 - val_loss: 2.3557 - val_accuracy: 0.1311\n",
            "Epoch 11/15\n",
            "18/18 [==============================] - 5s 263ms/step - loss: 2.0525 - accuracy: 0.3803 - val_loss: 2.4990 - val_accuracy: 0.1475\n",
            "Epoch 12/15\n",
            "18/18 [==============================] - 5s 263ms/step - loss: 1.9548 - accuracy: 0.4241 - val_loss: 2.1165 - val_accuracy: 0.2022\n",
            "Epoch 13/15\n",
            "18/18 [==============================] - 5s 253ms/step - loss: 1.7999 - accuracy: 0.4461 - val_loss: 2.3598 - val_accuracy: 0.1803\n",
            "Epoch 14/15\n",
            "18/18 [==============================] - 5s 265ms/step - loss: 1.7138 - accuracy: 0.4790 - val_loss: 3.7767 - val_accuracy: 0.1967\n",
            "Epoch 15/15\n",
            "18/18 [==============================] - 5s 253ms/step - loss: 1.8966 - accuracy: 0.4552 - val_loss: 1.9506 - val_accuracy: 0.3661\n"
          ]
        }
      ]
    },
    {
      "cell_type": "code",
      "source": [
        "# Results: evaluate the network\n",
        "print(\"[INFO] evaluating network...\")\n",
        "predictions = model.predict(testX, batch_size=32)\n",
        "print(classification_report(testY.argmax(axis=1),\n",
        "\tpredictions.argmax(axis=1), target_names=lb.classes_))"
      ],
      "metadata": {
        "colab": {
          "base_uri": "https://localhost:8080/"
        },
        "id": "PolhZizJQCXr",
        "outputId": "3a033d0a-e5b9-4100-ab73-fe4f41cdf900"
      },
      "execution_count": 10,
      "outputs": [
        {
          "output_type": "stream",
          "name": "stdout",
          "text": [
            "[INFO] evaluating network...\n",
            "6/6 [==============================] - 1s 73ms/step\n",
            "              precision    recall  f1-score   support\n",
            "\n",
            "     ACR-RBD       0.00      0.00      0.00        14\n",
            "      ACR-SE       0.00      0.00      0.00        13\n",
            "         CCO       0.00      0.00      0.00        21\n",
            "         DCO       0.15      0.72      0.25        18\n",
            "       Deck1       0.50      1.00      0.67        16\n",
            "     EXP-CMD       0.37      1.00      0.54        17\n",
            "     F-RB-NY       1.00      0.75      0.86        12\n",
            "     F-RB-PY       1.00      1.00      1.00        12\n",
            "       RB-NX       0.00      0.00      0.00         9\n",
            "       RB-NY       0.00      0.00      0.00        17\n",
            "       RB-PX       0.00      0.00      0.00        14\n",
            "       RB-PY       0.00      0.00      0.00        20\n",
            "\n",
            "    accuracy                           0.37       183\n",
            "   macro avg       0.25      0.37      0.28       183\n",
            "weighted avg       0.22      0.37      0.26       183\n",
            "\n"
          ]
        },
        {
          "output_type": "stream",
          "name": "stderr",
          "text": [
            "/usr/local/lib/python3.10/dist-packages/sklearn/metrics/_classification.py:1344: UndefinedMetricWarning: Precision and F-score are ill-defined and being set to 0.0 in labels with no predicted samples. Use `zero_division` parameter to control this behavior.\n",
            "  _warn_prf(average, modifier, msg_start, len(result))\n",
            "/usr/local/lib/python3.10/dist-packages/sklearn/metrics/_classification.py:1344: UndefinedMetricWarning: Precision and F-score are ill-defined and being set to 0.0 in labels with no predicted samples. Use `zero_division` parameter to control this behavior.\n",
            "  _warn_prf(average, modifier, msg_start, len(result))\n",
            "/usr/local/lib/python3.10/dist-packages/sklearn/metrics/_classification.py:1344: UndefinedMetricWarning: Precision and F-score are ill-defined and being set to 0.0 in labels with no predicted samples. Use `zero_division` parameter to control this behavior.\n",
            "  _warn_prf(average, modifier, msg_start, len(result))\n"
          ]
        }
      ]
    },
    {
      "cell_type": "code",
      "source": [
        "# Save: save the model to disk\n",
        "print(\"[INFO] serializing network...\")\n",
        "model.save(args[\"model\"])"
      ],
      "metadata": {
        "colab": {
          "base_uri": "https://localhost:8080/"
        },
        "id": "_XWxI7k0QHfN",
        "outputId": "ad149979-5957-44c2-bacf-96b782b47ca6"
      },
      "execution_count": 11,
      "outputs": [
        {
          "output_type": "stream",
          "name": "stdout",
          "text": [
            "[INFO] serializing network...\n"
          ]
        },
        {
          "output_type": "stream",
          "name": "stderr",
          "text": [
            "/usr/local/lib/python3.10/dist-packages/keras/src/engine/training.py:3103: UserWarning: You are saving your model as an HDF5 file via `model.save()`. This file format is considered legacy. We recommend using instead the native Keras format, e.g. `model.save('my_model.keras')`.\n",
            "  saving_api.save_model(\n"
          ]
        }
      ]
    },
    {
      "cell_type": "code",
      "source": [
        "# Results: plot the training + testing loss and accuracy\n",
        "plt.style.use(\"ggplot\")\n",
        "plt.figure()\n",
        "plt.plot(np.arange(0, 15), H.history[\"loss\"], label=\"train_loss\")\n",
        "plt.plot(np.arange(0, 15), H.history[\"val_loss\"], label=\"val_loss\")\n",
        "plt.plot(np.arange(0, 15), H.history[\"accuracy\"], label=\"acc\")\n",
        "plt.plot(np.arange(0, 15), H.history[\"val_accuracy\"], label=\"val_acc\")\n",
        "plt.title(\"Training Loss and Accuracy\")\n",
        "plt.xlabel(\"Epoch #\")\n",
        "plt.ylabel(\"Loss/Accuracy\")\n",
        "plt.legend()\n",
        "plt.show()"
      ],
      "metadata": {
        "colab": {
          "base_uri": "https://localhost:8080/",
          "height": 477
        },
        "id": "Ad-c6gdPROy4",
        "outputId": "32ded8a5-3e59-4201-8ab3-1a1a52bc2eec"
      },
      "execution_count": 12,
      "outputs": [
        {
          "output_type": "display_data",
          "data": {
            "text/plain": [
              "<Figure size 640x480 with 1 Axes>"
            ],
            "image/png": "[encoded data removed]"
          },
          "metadata": {}
        }
      ]
    }
  ]
}