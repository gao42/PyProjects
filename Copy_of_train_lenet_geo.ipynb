{
  "nbformat": 4,
  "nbformat_minor": 0,
  "metadata": {
    "colab": {
      "provenance": [],
      "authorship_tag": "ABX9TyNrZM64APhLpndqMJZvdCdj",
      "include_colab_link": true
    },
    "kernelspec": {
      "name": "python3",
      "display_name": "Python 3"
    },
    "language_info": {
      "name": "python"
    }
  },
  "cells": [
    {
      "cell_type": "markdown",
      "metadata": {
        "id": "view-in-github",
        "colab_type": "text"
      },
      "source": [
        "<a href=\"https://colab.research.google.com/github/gao42/PyProjects/blob/main/Copy_of_train_lenet_geo.ipynb\" target=\"_parent\"><img src=\"https://colab.research.google.com/assets/colab-badge.svg\" alt=\"Open In Colab\"/></a>"
      ]
    },
    {
      "cell_type": "markdown",
      "source": [
        "# Train the Geometry Classification Model (LeNet Model).\n",
        "#####     Usage:\n",
        "#####     python train_model.py --dataset dataset --model output/lenet.hdf5"
      ],
      "metadata": {
        "id": "MNRIK2D1FJLY"
      }
    },
    {
      "cell_type": "code",
      "source": [
        "# Tools: Unzip the pyimagesearch tools\n",
        "\n",
        "!unzip -qq \"/content/pyimagesearch.zip\" -d \"/content\"\n"
      ],
      "metadata": {
        "id": "hzl07NgVGn9X"
      },
      "execution_count": null,
      "outputs": []
    },
    {
      "cell_type": "code",
      "execution_count": null,
      "metadata": {
        "id": "LwTJI-lKFB1X"
      },
      "outputs": [],
      "source": [
        "# Import: import the necessary packages\n",
        "from sklearn.preprocessing import LabelBinarizer\n",
        "from sklearn.model_selection import train_test_split\n",
        "from sklearn.metrics import classification_report\n",
        "from tensorflow.keras.preprocessing.image import img_to_array\n",
        "from tensorflow.keras.optimizers import SGD\n",
        "from pyimagesearch.nn.conv import LeNet\n",
        "from pyimagesearch.utils.captchahelper import preprocess\n",
        "from imutils import paths\n",
        "import matplotlib.pyplot as plt\n",
        "import numpy as np\n",
        "import argparse\n",
        "import cv2\n",
        "import os"
      ]
    },
    {
      "cell_type": "code",
      "source": [
        "# Arguments: construct the argument parse and parse the arguments\n",
        "#ap = argparse.ArgumentParser()\n",
        "#ap.add_argument(\"-d\", \"--dataset\", required=True,\n",
        "#\thelp=\"path to input dataset\")\n",
        "#ap.add_argument(\"-m\", \"--model\", required=True,\n",
        "#\thelp=\"path to output model\")\n",
        "#args = vars(ap.parse_args())\n",
        "\n",
        "args = {\n",
        "\t\"dataset\": \"data_geo\",\n",
        "    \"model\": \"lenet_geo.hdf5\"\n",
        "}"
      ],
      "metadata": {
        "id": "1zexJTYgIG9Q"
      },
      "execution_count": null,
      "outputs": []
    },
    {
      "cell_type": "code",
      "source": [
        "# Data: Unzip the data set to be used\n",
        "\n",
        "!unzip -qq \"/content/dataset_geo.zip\" -d \"/content\""
      ],
      "metadata": {
        "id": "dajv_n5oJkca"
      },
      "execution_count": null,
      "outputs": []
    },
    {
      "cell_type": "code",
      "source": [
        "# Preprocess: in a loop load and preprocess each image\n",
        "for imagePath in paths.list_images(args[\"dataset\"]):\n",
        "\t# load the image, pre-process it, and store it in the data list\n",
        "\timage = cv2.imread(imagePath)\n",
        "\timage = cv2.cvtColor(image, cv2.COLOR_BGR2GRAY)\n",
        "\t#image = preprocess(image, 28, 28)\n",
        "\timage = preprocess(image, 1024, 1024)\n",
        "\timage = img_to_array(image)\n",
        "\tdata.append(image)\n",
        "\n",
        "\t# extract the class label from the image path and update the\n",
        "\t# labels list\n",
        "\tlabel = imagePath.split(os.path.sep)[-2]\n",
        "\tlabels.append(label)"
      ],
      "metadata": {
        "id": "E-cwQX4LJ01g"
      },
      "execution_count": null,
      "outputs": []
    },
    {
      "cell_type": "markdown",
      "source": [],
      "metadata": {
        "id": "Jkr1NvvqJyUm"
      }
    },
    {
      "cell_type": "code",
      "source": [],
      "metadata": {
        "id": "Q84z4E1oKDVn"
      },
      "execution_count": null,
      "outputs": []
    }
  ]
}